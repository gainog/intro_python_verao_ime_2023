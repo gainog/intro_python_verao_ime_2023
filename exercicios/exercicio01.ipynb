{
 "cells": [
  {
   "cell_type": "markdown",
   "metadata": {
    "collapsed": true,
    "pycharm": {
     "name": "#%% md\n"
    }
   },
   "source": [
    "## Exercícios - Aula 01"
   ]
  },
  {
   "attachments": {},
   "cell_type": "markdown",
   "metadata": {},
   "source": [
    "1) Escolha um número entre 1 e 10 e armazene ele numa variável chamada *segredo*. Escolha outro número entre 1 e 10 novamente e salve ele numa variável chamada *chute*. Depois, escreva testes condicionais usando *if*, *else* e *elif* para exibir a mensagem \"muito menor\" se *chute* é menor do que *segredo*, \"muito maior\" se *chute* é maior do que *segredo* e \"na mosca\" se *chute* for igual à *segredo*."
   ]
  },
  {
   "cell_type": "code",
   "execution_count": 21,
   "metadata": {},
   "outputs": [
    {
     "name": "stdout",
     "output_type": "stream",
     "text": [
      "segredo: 3 chute: 3\n",
      "Na mosca!\n"
     ]
    }
   ],
   "source": [
    "import random\n",
    "segredo = random.randrange(1,10)\n",
    "chute = random.randrange(1,10)\n",
    "\n",
    "print(\"segredo:\",segredo,\"chute:\",chute)\n",
    "\n",
    "if chute == segredo:\n",
    "    print(\"Na mosca!\")\n",
    "elif chute > segredo:\n",
    "    print(\"maior\")\n",
    "else:\n",
    "    print(\"menor\")"
   ]
  },
  {
   "attachments": {},
   "cell_type": "markdown",
   "metadata": {},
   "source": [
    "2) Escreva uma cadeia de instrucões *if*-*elif*-*else* que determine o estágio da vida de uma pessoa. Defina um valor para a variável *idade* e então:\n",
    "- Se a pessoa tiver menos de 2 anos de idade, mostre uma mensagem dizendo que ela ainda é um bebê.\n",
    "- Se a pessoa tiver pelo menos 2 anos, mas menos de 4, mostre uma mensagem dizendo que ela é uma crianca.\n",
    "- Se a pessoa tiver pelo menos 4 anos, mas menos de 13, mostre uma mensagem dizendo que ela é um(a) goroto(a).\n",
    "- Se a pessoa tiver pelo menos 13 anos, mas menos de 20, mostre uma mensagem dizendo que ela é um(a) adolescente.\n",
    "- Se a pessoa tiver pelo menos 20 anos, mas menos de 65, mostre uma mensagem dizendo que ela é um(a) adulto(a).\n",
    "- Se a pessoa tiver 65 anos ou mais, mostre uma mensagem dizendo que ela é uma pessoa idosa."
   ]
  },
  {
   "cell_type": "code",
   "execution_count": 26,
   "metadata": {},
   "outputs": [
    {
     "name": "stdout",
     "output_type": "stream",
     "text": [
      "idade 78\n",
      "idoso(a)\n"
     ]
    }
   ],
   "source": [
    "idade = random.randrange(1,100)\n",
    "print(\"idade\",idade)\n",
    "if idade < 2: print(\"bebê\")\n",
    "elif idade < 4: print(\"criança\")\n",
    "elif idade < 13: print(\"garoto(a)\")\n",
    "elif idade < 20: print(\"adolescente\")\n",
    "elif idade < 65: print(\"adulto\")\n",
    "else: print(\"idoso(a)\")\n"
   ]
  },
  {
   "attachments": {},
   "cell_type": "markdown",
   "metadata": {},
   "source": [
    "3) Crie uma lista com cinco ou mais nomes de usuários, incluindo o nome \"admin\". Suponha que você esteja escrevendo um código que exibirá uma saudacão a cada usuário depois que eles fizerem login em um site. Percorra a lista com um laco e mostre uma saudacão para cada usuário:\n",
    "- Se o nome do usuário for \"admin\", mostre uma saudacão especial, por exemplo, \"Olá admin, gostaria de ver o relatório de status?\"\n",
    "- Caso contrário, mostre a saudacão genérica, como \"Olá José, obrigado por fazer login novamente\"."
   ]
  },
  {
   "cell_type": "code",
   "execution_count": 22,
   "metadata": {},
   "outputs": [
    {
     "name": "stdout",
     "output_type": "stream",
     "text": [
      "Olá admin, gostaria de ver o relatório de status?\n",
      "Olá user01, obrigado por fazer login novamente\n",
      "Olá user02, obrigado por fazer login novamente\n",
      "Olá user03, obrigado por fazer login novamente\n",
      "Olá user04, obrigado por fazer login novamente\n"
     ]
    }
   ],
   "source": [
    "usuarios = [\"admin\", \"user01\", \"user02\", \"user03\", \"user04\"]\n",
    "\n",
    "for i in range(len(usuarios)):\n",
    "    if(usuarios[i] == \"admin\"):\n",
    "        print(\"Olá admin, gostaria de ver o relatório de status?\")\n",
    "    else:\n",
    "        print(\"Olá {}, obrigado por fazer login novamente\".format(usuarios[i]))"
   ]
  },
  {
   "attachments": {},
   "cell_type": "markdown",
   "metadata": {},
   "source": [
    "4) A partir do exercício anterior, modifique o código criado para acrescentar um teste if que verifica se a lista de usuarios está vazia.\n",
    "- Se a lista de usuários estiver vazia, mostre a mensagem \"Precisamos encontrar alguns usuários!\". Remova todos os nomes de usuários da lista e certifique-se de que essa mensagem aparecerá."
   ]
  },
  {
   "cell_type": "code",
   "execution_count": 23,
   "metadata": {},
   "outputs": [
    {
     "name": "stdout",
     "output_type": "stream",
     "text": [
      "Precisamos encontrar alguns usuários!\n"
     ]
    }
   ],
   "source": [
    "usuarios = []\n",
    "\n",
    "if len(usuarios) == 0:\n",
    "    print(\"Precisamos encontrar alguns usuários!\")\n",
    "else:\n",
    "    for i in range(len(usuarios)):\n",
    "        if(usuarios[i] == \"admin\"):\n",
    "            print(\"Olá admin, gostaria de ver o relatório de status?\")\n",
    "        else:\n",
    "            print(\"Olá {}, obrigado por fazer login novamente\".format(usuarios[i]))"
   ]
  },
  {
   "attachments": {},
   "cell_type": "markdown",
   "metadata": {},
   "source": [
    "5) Crie um programa que simule o modo como os sites garantem que todos tenham um nome de usuário único.\n",
    "- Crie uma lista chamada *current_users* com cinco ou mais nomes de usuários\n",
    "- Crie uma list chamada *new_users* com cinco nomes de usuários. Garanta que dois dos novos usuários também estejam na lista *current_users*\n",
    "- Percorra a lista *new_users* com um laco para ver se cada novo nome de usuário já foi usado. Em caso afirmativo, mostre uma mensagem afirmando que a pessoa deverá fornecer um novo nome. Se um usuário não foi usado, apresente uma mensagem dizendo que o nome do usuário está disponível.\n",
    "- Certifique-se de que sua comparacão não levará em conta as diferencas entre letras maiúsculas e minúsculas. Se \"Pedro\" foi usado, \"PEDRO\" não deverá ser aceito."
   ]
  },
  {
   "cell_type": "code",
   "execution_count": 24,
   "metadata": {},
   "outputs": [
    {
     "name": "stdout",
     "output_type": "stream",
     "text": [
      "USer01 : usuário já utilizado\n",
      "uSeR02 : usuário já utilizado\n",
      "User06 : usuário disponível\n",
      "User07 : usuário disponível\n",
      "User08 : usuário disponível\n"
     ]
    }
   ],
   "source": [
    "# Original user name lists\n",
    "current_users = [\"User01\",\"USER02\",\"User03\",\"User04\",\"User05\"]\n",
    "new_users = [\"USer01\",\"uSeR02\",\"User06\",\"User07\",\"User08\"]\n",
    "\n",
    "# Lower case lists\n",
    "current_users_lw = []\n",
    "new_users_lw = []\n",
    "\n",
    "# Convert all to lowercase\n",
    "for i in current_users: current_users_lw.append(i.lower())\n",
    "for j in new_users: new_users_lw.append(j.lower())\n",
    "\n",
    "# Check if user names are in use\n",
    "for i in range(len(new_users)):\n",
    "    try:\n",
    "        current_users_lw.index(new_users[i].lower())\n",
    "        print(new_users[i],\":\",\"usuário já utilizado\")\n",
    "    except:\n",
    "        print(new_users[i],\":\",\"usuário disponível\")"
   ]
  },
  {
   "attachments": {},
   "cell_type": "markdown",
   "metadata": {},
   "source": [
    "6) Números ordinais indicam sua posicão em uma lista, por exemplo, 1st, 2nd, em inglês. A maioria dos números ordinais nessa língua termina com th, exceto, 1, 2 e 3.\n",
    "- Armazene os números de 1 a 9 em uma lista.\n",
    "- Pecorra essa lista com um laco.\n",
    "- Use uma cadeia de instrucões *if*-*elif*-*else* que exiba a terminacão apropriada para cada número ordinal. Sua saída deverá conter \"1st 2nd 3rd 4th 5th 6th 7th 8th 9th\" e cada resultado deve estar em uma linha separada"
   ]
  },
  {
   "cell_type": "code",
   "execution_count": 25,
   "metadata": {},
   "outputs": [
    {
     "name": "stdout",
     "output_type": "stream",
     "text": [
      "1st\n",
      "2nd\n",
      "3rd\n",
      "4th\n",
      "5th\n",
      "6th\n",
      "7th\n",
      "8th\n",
      "9th\n"
     ]
    }
   ],
   "source": [
    "# Create list 1-9\n",
    "ints = []\n",
    "i = 1\n",
    "while len(ints) < 9:\n",
    "    ints.append(i)\n",
    "    i += 1\n",
    "\n",
    "for i in ints:\n",
    "    if i == 1: suffix = \"st\"\n",
    "    elif i == 2: suffix = \"nd\"\n",
    "    elif i == 3: suffix = \"rd\"\n",
    "    else: suffix = \"th\"\n",
    "    print(str(i) + suffix)"
   ]
  }
 ],
 "metadata": {
  "kernelspec": {
   "display_name": "Python 3",
   "language": "python",
   "name": "python3"
  },
  "language_info": {
   "codemirror_mode": {
    "name": "ipython",
    "version": 3
   },
   "file_extension": ".py",
   "mimetype": "text/x-python",
   "name": "python",
   "nbconvert_exporter": "python",
   "pygments_lexer": "ipython3",
   "version": "3.10.4"
  },
  "vscode": {
   "interpreter": {
    "hash": "3ad933181bd8a04b432d3370b9dc3b0662ad032c4dfaa4e4f1596c548f763858"
   }
  }
 },
 "nbformat": 4,
 "nbformat_minor": 0
}
